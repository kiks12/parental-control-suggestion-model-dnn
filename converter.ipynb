{
 "cells": [
  {
   "cell_type": "code",
   "execution_count": 2,
   "id": "6f5da453-a401-4b45-ac33-31e0c3fa75a1",
   "metadata": {},
   "outputs": [],
   "source": [
    "import tensorflow as tf\n",
    "import pandas as pd\n",
    "import matplotlib.pyplot as plt\n",
    "import numpy as np"
   ]
  },
  {
   "cell_type": "markdown",
   "id": "4979a5c3-2049-485e-8fa1-7f5a4a075e59",
   "metadata": {},
   "source": [
    "# Testing"
   ]
  },
  {
   "cell_type": "code",
   "execution_count": 14,
   "id": "0dc04697-d695-4c0c-93db-55e693a4bf1a",
   "metadata": {},
   "outputs": [],
   "source": [
    "df = pd.read_csv(\"./Android-Apps/try.csv\")"
   ]
  },
  {
   "cell_type": "code",
   "execution_count": 15,
   "id": "d64097a6-7909-47a7-ba90-34bb37f44272",
   "metadata": {},
   "outputs": [],
   "source": [
    "model = tf.keras.models.load_model(\"./new-model-0.1.1\")"
   ]
  },
  {
   "cell_type": "code",
   "execution_count": 16,
   "id": "f01c45f2-6b02-4d04-8179-ca9169361454",
   "metadata": {},
   "outputs": [
    {
     "name": "stdout",
     "output_type": "stream",
     "text": [
      "Model: \"sequential_12\"\n",
      "_________________________________________________________________\n",
      " Layer (type)                Output Shape              Param #   \n",
      "=================================================================\n",
      " normalization_6 (Normaliza  (None, 2)                 5         \n",
      " tion)                                                           \n",
      "                                                                 \n",
      " dense_30 (Dense)            (None, 64)                192       \n",
      "                                                                 \n",
      " dense_31 (Dense)            (None, 64)                4160      \n",
      "                                                                 \n",
      " dense_32 (Dense)            (None, 6)                 390       \n",
      "                                                                 \n",
      "=================================================================\n",
      "Total params: 4747 (18.55 KB)\n",
      "Trainable params: 4742 (18.52 KB)\n",
      "Non-trainable params: 5 (24.00 Byte)\n",
      "_________________________________________________________________\n"
     ]
    }
   ],
   "source": [
    "model.summary()"
   ]
  },
  {
   "cell_type": "code",
   "execution_count": 17,
   "id": "6a6f3a55-7623-4ee7-9bdc-d1f660994d28",
   "metadata": {},
   "outputs": [],
   "source": [
    "labels = df.pop(\"Content Rating\")\n",
    "features = df"
   ]
  },
  {
   "cell_type": "code",
   "execution_count": null,
   "id": "01076edb-75cf-4095-a028-c3a8890916d3",
   "metadata": {},
   "outputs": [],
   "source": [
    "\"\"\"\n",
    "0 - 0\n",
    "1 - 7\n",
    "2 - 10\n",
    "3 - 13\n",
    "3 - 17\n",
    "4 - 18\n",
    "\"\"\""
   ]
  },
  {
   "cell_type": "code",
   "execution_count": 25,
   "id": "e31f2b62-3f99-420c-a41a-682ff3f120b6",
   "metadata": {},
   "outputs": [
    {
     "name": "stdout",
     "output_type": "stream",
     "text": [
      "1/1 [==============================] - 0s 27ms/step\n"
     ]
    }
   ],
   "source": [
    "preds = model.predict([[10,2]])\n",
    "preds = map(lambda x: np.argmax(x), preds)\n",
    "preds = list(preds)"
   ]
  },
  {
   "cell_type": "code",
   "execution_count": 26,
   "id": "54e1a64c-06cf-4a74-a33b-ce114a4aff75",
   "metadata": {},
   "outputs": [
    {
     "data": {
      "text/plain": [
       "<matplotlib.legend.Legend at 0x28521d3d0>"
      ]
     },
     "execution_count": 26,
     "metadata": {},
     "output_type": "execute_result"
    },
    {
     "data": {
      "image/png": "[encoded data removed]",
      "text/plain": [
       "<Figure size 640x480 with 1 Axes>"
      ]
     },
     "metadata": {},
     "output_type": "display_data"
    }
   ],
   "source": [
    "# plt.scatter(features[\"Age\"][:20], preds, label=\"Prediction\")\n",
    "# plt.scatter(features[\"Age\"][:20], labels[:20], label=\"Actual\", alpha=0.5)\n",
    "# plt.legend()\n",
    "\n",
    "plt.scatter([10], preds, label=\"Prediction\")\n",
    "plt.scatter([10], [], label=\"Actual\", alpha=0.5)\n",
    "plt.legend()"
   ]
  },
  {
   "cell_type": "code",
   "execution_count": 20,
   "id": "2a130c32-f9d4-4738-aebc-2de9ed8acae3",
   "metadata": {},
   "outputs": [
    {
     "name": "stderr",
     "output_type": "stream",
     "text": [
      "2023-10-24 13:26:58.102759: W tensorflow/compiler/mlir/lite/python/tf_tfl_flatbuffer_helpers.cc:378] Ignored output_format.\n",
      "2023-10-24 13:26:58.102778: W tensorflow/compiler/mlir/lite/python/tf_tfl_flatbuffer_helpers.cc:381] Ignored drop_control_dependency.\n",
      "2023-10-24 13:26:58.103882: I tensorflow/cc/saved_model/reader.cc:83] Reading SavedModel from: ./new-model-0.1.1\n",
      "2023-10-24 13:26:58.105265: I tensorflow/cc/saved_model/reader.cc:51] Reading meta graph with tags { serve }\n",
      "2023-10-24 13:26:58.105271: I tensorflow/cc/saved_model/reader.cc:146] Reading SavedModel debug info (if present) from: ./new-model-0.1.1\n",
      "2023-10-24 13:26:58.107006: I tensorflow/compiler/mlir/mlir_graph_optimization_pass.cc:382] MLIR V1 optimization pass is not enabled\n",
      "2023-10-24 13:26:58.107730: I tensorflow/cc/saved_model/loader.cc:233] Restoring SavedModel bundle.\n",
      "2023-10-24 13:26:58.143843: I tensorflow/cc/saved_model/loader.cc:217] Running initialization op on SavedModel bundle at path: ./new-model-0.1.1\n",
      "2023-10-24 13:26:58.152955: I tensorflow/cc/saved_model/loader.cc:316] SavedModel load for tags { serve }; Status: success: OK. Took 49073 microseconds.\n",
      "2023-10-24 13:26:58.175675: I tensorflow/compiler/mlir/tensorflow/utils/dump_mlir_util.cc:269] disabling MLIR crash reproducer, set env var `MLIR_CRASH_REPRODUCER_DIRECTORY` to enable.\n"
     ]
    }
   ],
   "source": [
    "converter = tf.lite.TFLiteConverter.from_saved_model(\"./new-model-0.1.1\")\n",
    "tflite_model = converter.convert()"
   ]
  },
  {
   "cell_type": "code",
   "execution_count": 25,
   "id": "dc372ebc-b201-4ec1-b152-8b9c265e7639",
   "metadata": {},
   "outputs": [],
   "source": [
    "# Save the model.\n",
    "with open('model.tflite', 'wb') as f:\n",
    "  f.write(tflite_model)"
   ]
  },
  {
   "cell_type": "code",
   "execution_count": null,
   "id": "16c94f48-53b0-49d7-b52a-f420d37e280f",
   "metadata": {},
   "outputs": [],
   "source": []
  },
  {
   "cell_type": "code",
   "execution_count": null,
   "id": "a1def3c9-44aa-436a-9971-6061ea772c10",
   "metadata": {},
   "outputs": [],
   "source": []
  }
 ],
 "metadata": {
  "kernelspec": {
   "display_name": "Python 3 (ipykernel)",
   "language": "python",
   "name": "python3"
  },
  "language_info": {
   "codemirror_mode": {
    "name": "ipython",
    "version": 3
   },
   "file_extension": ".py",
   "mimetype": "text/x-python",
   "name": "python",
   "nbconvert_exporter": "python",
   "pygments_lexer": "ipython3",
   "version": "3.11.1"
  }
 },
 "nbformat": 4,
 "nbformat_minor": 5
}
