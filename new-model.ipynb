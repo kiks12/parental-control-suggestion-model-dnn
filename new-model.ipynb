{
 "cells": [
  {
   "cell_type": "code",
   "execution_count": 91,
   "id": "609402ac-6bda-4564-857c-c58d8c867170",
   "metadata": {},
   "outputs": [],
   "source": [
    "import pandas as pd\n",
    "import tensorflow as tf\n",
    "import matplotlib.pyplot as plt\n",
    "import numpy as np"
   ]
  },
  {
   "cell_type": "code",
   "execution_count": 31,
   "id": "80c98d30-eaa0-4b07-87fd-15b14298e198",
   "metadata": {},
   "outputs": [],
   "source": [
    "df = pd.read_csv(\"./Android-Apps/try.csv\")"
   ]
  },
  {
   "cell_type": "code",
   "execution_count": 32,
   "id": "424f9cbf-a82a-419e-8a94-a6459a785bc5",
   "metadata": {},
   "outputs": [
    {
     "data": {
      "text/html": [
       "<div>\n",
       "<style scoped>\n",
       "    .dataframe tbody tr th:only-of-type {\n",
       "        vertical-align: middle;\n",
       "    }\n",
       "\n",
       "    .dataframe tbody tr th {\n",
       "        vertical-align: top;\n",
       "    }\n",
       "\n",
       "    .dataframe thead th {\n",
       "        text-align: right;\n",
       "    }\n",
       "</style>\n",
       "<table border=\"1\" class=\"dataframe\">\n",
       "  <thead>\n",
       "    <tr style=\"text-align: right;\">\n",
       "      <th></th>\n",
       "      <th>Age</th>\n",
       "      <th>Maturity Level</th>\n",
       "      <th>Content Rating</th>\n",
       "    </tr>\n",
       "  </thead>\n",
       "  <tbody>\n",
       "    <tr>\n",
       "      <th>0</th>\n",
       "      <td>5</td>\n",
       "      <td>1</td>\n",
       "      <td>1</td>\n",
       "    </tr>\n",
       "    <tr>\n",
       "      <th>1</th>\n",
       "      <td>13</td>\n",
       "      <td>2</td>\n",
       "      <td>3</td>\n",
       "    </tr>\n",
       "    <tr>\n",
       "      <th>2</th>\n",
       "      <td>20</td>\n",
       "      <td>2</td>\n",
       "      <td>5</td>\n",
       "    </tr>\n",
       "    <tr>\n",
       "      <th>3</th>\n",
       "      <td>20</td>\n",
       "      <td>0</td>\n",
       "      <td>5</td>\n",
       "    </tr>\n",
       "    <tr>\n",
       "      <th>4</th>\n",
       "      <td>28</td>\n",
       "      <td>0</td>\n",
       "      <td>5</td>\n",
       "    </tr>\n",
       "  </tbody>\n",
       "</table>\n",
       "</div>"
      ],
      "text/plain": [
       "   Age  Maturity Level  Content Rating\n",
       "0    5               1               1\n",
       "1   13               2               3\n",
       "2   20               2               5\n",
       "3   20               0               5\n",
       "4   28               0               5"
      ]
     },
     "execution_count": 32,
     "metadata": {},
     "output_type": "execute_result"
    }
   ],
   "source": [
    "df.head()"
   ]
  },
  {
   "cell_type": "code",
   "execution_count": 33,
   "id": "2bafd3c1-1b9d-4b6e-8efa-aaa7525fc1c0",
   "metadata": {},
   "outputs": [
    {
     "data": {
      "text/html": [
       "<div>\n",
       "<style scoped>\n",
       "    .dataframe tbody tr th:only-of-type {\n",
       "        vertical-align: middle;\n",
       "    }\n",
       "\n",
       "    .dataframe tbody tr th {\n",
       "        vertical-align: top;\n",
       "    }\n",
       "\n",
       "    .dataframe thead th {\n",
       "        text-align: right;\n",
       "    }\n",
       "</style>\n",
       "<table border=\"1\" class=\"dataframe\">\n",
       "  <thead>\n",
       "    <tr style=\"text-align: right;\">\n",
       "      <th></th>\n",
       "      <th>Age</th>\n",
       "      <th>Maturity Level</th>\n",
       "      <th>Content Rating</th>\n",
       "    </tr>\n",
       "  </thead>\n",
       "  <tbody>\n",
       "    <tr>\n",
       "      <th>count</th>\n",
       "      <td>70000.000000</td>\n",
       "      <td>70000.000000</td>\n",
       "      <td>70000.000000</td>\n",
       "    </tr>\n",
       "    <tr>\n",
       "      <th>mean</th>\n",
       "      <td>14.977671</td>\n",
       "      <td>0.991257</td>\n",
       "      <td>3.091629</td>\n",
       "    </tr>\n",
       "    <tr>\n",
       "      <th>std</th>\n",
       "      <td>8.936218</td>\n",
       "      <td>0.814909</td>\n",
       "      <td>1.803400</td>\n",
       "    </tr>\n",
       "    <tr>\n",
       "      <th>min</th>\n",
       "      <td>0.000000</td>\n",
       "      <td>0.000000</td>\n",
       "      <td>0.000000</td>\n",
       "    </tr>\n",
       "    <tr>\n",
       "      <th>25%</th>\n",
       "      <td>7.000000</td>\n",
       "      <td>0.000000</td>\n",
       "      <td>1.000000</td>\n",
       "    </tr>\n",
       "    <tr>\n",
       "      <th>50%</th>\n",
       "      <td>15.000000</td>\n",
       "      <td>1.000000</td>\n",
       "      <td>3.000000</td>\n",
       "    </tr>\n",
       "    <tr>\n",
       "      <th>75%</th>\n",
       "      <td>23.000000</td>\n",
       "      <td>2.000000</td>\n",
       "      <td>5.000000</td>\n",
       "    </tr>\n",
       "    <tr>\n",
       "      <th>max</th>\n",
       "      <td>30.000000</td>\n",
       "      <td>2.000000</td>\n",
       "      <td>5.000000</td>\n",
       "    </tr>\n",
       "  </tbody>\n",
       "</table>\n",
       "</div>"
      ],
      "text/plain": [
       "                Age  Maturity Level  Content Rating\n",
       "count  70000.000000    70000.000000    70000.000000\n",
       "mean      14.977671        0.991257        3.091629\n",
       "std        8.936218        0.814909        1.803400\n",
       "min        0.000000        0.000000        0.000000\n",
       "25%        7.000000        0.000000        1.000000\n",
       "50%       15.000000        1.000000        3.000000\n",
       "75%       23.000000        2.000000        5.000000\n",
       "max       30.000000        2.000000        5.000000"
      ]
     },
     "execution_count": 33,
     "metadata": {},
     "output_type": "execute_result"
    }
   ],
   "source": [
    "df.describe()"
   ]
  },
  {
   "cell_type": "code",
   "execution_count": 34,
   "id": "614e97ea-bd06-4bfa-86f7-38141ea91b9b",
   "metadata": {},
   "outputs": [],
   "source": [
    "def plot_correlation(x, y):\n",
    "  plt.scatter(x, y, label='Content Rating')\n",
    "  plt.xlabel('Age')\n",
    "  plt.ylabel('Content Rating')\n",
    "  plt.legend()"
   ]
  },
  {
   "cell_type": "code",
   "execution_count": 35,
   "id": "79e60bda-53f9-44c5-808e-e482f99f7c30",
   "metadata": {},
   "outputs": [
    {
     "data": {
      "image/png": "[encoded data removed]",
      "text/plain": [
       "<Figure size 640x480 with 1 Axes>"
      ]
     },
     "metadata": {},
     "output_type": "display_data"
    }
   ],
   "source": [
    "plot_correlation(df[\"Age\"], df[\"Content Rating\"])"
   ]
  },
  {
   "cell_type": "code",
   "execution_count": 57,
   "id": "d0407961-ff99-4962-a58c-eda41ac3bed7",
   "metadata": {},
   "outputs": [],
   "source": [
    "train_dataset = df.sample(frac=0.8, random_state=1)\n",
    "test_dataset = df.drop(train_dataset.index)"
   ]
  },
  {
   "cell_type": "code",
   "execution_count": 58,
   "id": "1deb4702-8865-4a13-a16c-9d4eac5ddc57",
   "metadata": {},
   "outputs": [
    {
     "data": {
      "text/plain": [
       "(56000,)"
      ]
     },
     "execution_count": 58,
     "metadata": {},
     "output_type": "execute_result"
    }
   ],
   "source": [
    "train_labels = train_dataset.pop(\"Content Rating\")\n",
    "train_features = train_dataset\n",
    "\n",
    "test_labels = test_dataset.pop(\"Content Rating\")\n",
    "test_features = test_dataset\n",
    "\n",
    "train_labels.shape"
   ]
  },
  {
   "cell_type": "code",
   "execution_count": 59,
   "id": "6de7c4a3-241f-4d4a-9701-7fc34b27ef60",
   "metadata": {},
   "outputs": [],
   "source": [
    "df_copy = df.copy()\n",
    "labels = df_copy.pop(\"Content Rating\")\n",
    "features = df_copy\n",
    "\n",
    "normalizer = tf.keras.layers.Normalization()\n",
    "normalizer.adapt(features)"
   ]
  },
  {
   "cell_type": "code",
   "execution_count": 152,
   "id": "1a06625a-0f3a-4b02-8207-32a8656c02ea",
   "metadata": {},
   "outputs": [],
   "source": [
    "model = tf.keras.models.Sequential([\n",
    "    normalizer,\n",
    "    tf.keras.layers.Dense(64, activation=\"relu\"),\n",
    "    tf.keras.layers.Dense(64, activation=\"relu\"),\n",
    "    tf.keras.layers.Dense(6, activation=\"softmax\"),\n",
    "])"
   ]
  },
  {
   "cell_type": "code",
   "execution_count": 153,
   "id": "715e8da6-4b81-4b20-a573-5a829e20b23e",
   "metadata": {},
   "outputs": [],
   "source": [
    "model.compile(\n",
    "    optimizer=tf.keras.optimizers.legacy.Adam(learning_rate=0.1),\n",
    "    loss=tf.keras.losses.SparseCategoricalCrossentropy()\n",
    ")"
   ]
  },
  {
   "cell_type": "code",
   "execution_count": 154,
   "id": "2cb8d904-924d-412d-b0e5-440f2bcb7e56",
   "metadata": {},
   "outputs": [
    {
     "name": "stdout",
     "output_type": "stream",
     "text": [
      "Model: \"sequential_12\"\n",
      "_________________________________________________________________\n",
      " Layer (type)                Output Shape              Param #   \n",
      "=================================================================\n",
      " normalization_6 (Normaliza  (None, 2)                 5         \n",
      " tion)                                                           \n",
      "                                                                 \n",
      " dense_30 (Dense)            (None, 64)                192       \n",
      "                                                                 \n",
      " dense_31 (Dense)            (None, 64)                4160      \n",
      "                                                                 \n",
      " dense_32 (Dense)            (None, 6)                 390       \n",
      "                                                                 \n",
      "=================================================================\n",
      "Total params: 4747 (18.55 KB)\n",
      "Trainable params: 4742 (18.52 KB)\n",
      "Non-trainable params: 5 (24.00 Byte)\n",
      "_________________________________________________________________\n"
     ]
    }
   ],
   "source": [
    "model.summary()"
   ]
  },
  {
   "cell_type": "code",
   "execution_count": 155,
   "id": "dd5f1ca8-831e-46bc-aa57-a3ff182f4325",
   "metadata": {},
   "outputs": [
    {
     "name": "stdout",
     "output_type": "stream",
     "text": [
      "Epoch 1/10\n",
      "1400/1400 [==============================] - 1s 783us/step - loss: 0.1389 - val_loss: 0.2824\n",
      "Epoch 2/10\n",
      "1400/1400 [==============================] - 1s 716us/step - loss: 0.0609 - val_loss: 0.0568\n",
      "Epoch 3/10\n",
      "1400/1400 [==============================] - 1s 705us/step - loss: 0.0431 - val_loss: 0.0173\n",
      "Epoch 4/10\n",
      "1400/1400 [==============================] - 1s 691us/step - loss: 0.0304 - val_loss: 0.0191\n",
      "Epoch 5/10\n",
      "1400/1400 [==============================] - 1s 693us/step - loss: 0.0497 - val_loss: 0.0102\n",
      "Epoch 6/10\n",
      "1400/1400 [==============================] - 1s 698us/step - loss: 0.0483 - val_loss: 0.0095\n",
      "Epoch 7/10\n",
      "1400/1400 [==============================] - 1s 717us/step - loss: 0.0383 - val_loss: 0.0257\n",
      "Epoch 8/10\n",
      "1400/1400 [==============================] - 1s 697us/step - loss: 0.0246 - val_loss: 0.0068\n",
      "Epoch 9/10\n",
      "1400/1400 [==============================] - 1s 699us/step - loss: 0.0331 - val_loss: 0.0250\n",
      "Epoch 10/10\n",
      "1400/1400 [==============================] - 1s 694us/step - loss: 0.0235 - val_loss: 0.0054\n"
     ]
    },
    {
     "data": {
      "text/plain": [
       "<keras.src.callbacks.History at 0x29a984190>"
      ]
     },
     "execution_count": 155,
     "metadata": {},
     "output_type": "execute_result"
    }
   ],
   "source": [
    "model.fit(\n",
    "    train_features, \n",
    "    train_labels, \n",
    "    verbose=1, \n",
    "    epochs=10,\n",
    "    validation_split=0.2\n",
    ")"
   ]
  },
  {
   "cell_type": "code",
   "execution_count": 156,
   "id": "e8641d8a-9352-41c1-bf79-af8d4b262ea8",
   "metadata": {},
   "outputs": [
    {
     "name": "stdout",
     "output_type": "stream",
     "text": [
      "438/438 [==============================] - 0s 446us/step - loss: 0.0053\n"
     ]
    },
    {
     "data": {
      "text/plain": [
       "0.005274362396448851"
      ]
     },
     "execution_count": 156,
     "metadata": {},
     "output_type": "execute_result"
    }
   ],
   "source": [
    "model.evaluate(test_features, test_labels)"
   ]
  },
  {
   "cell_type": "code",
   "execution_count": 157,
   "id": "4aa2ec06-f379-49e5-aa17-610d8dded723",
   "metadata": {},
   "outputs": [
    {
     "name": "stdout",
     "output_type": "stream",
     "text": [
      "438/438 [==============================] - 0s 424us/step\n"
     ]
    }
   ],
   "source": [
    "preds = model.predict(test_features)\n",
    "preds = map(lambda x: np.argmax(x), preds)\n",
    "preds = list(preds)"
   ]
  },
  {
   "cell_type": "code",
   "execution_count": 158,
   "id": "0366f020-0b20-48b5-872a-279fdee557c5",
   "metadata": {},
   "outputs": [
    {
     "name": "stdout",
     "output_type": "stream",
     "text": [
      "0\n",
      "5\n",
      "5\n",
      "1\n",
      "1\n",
      "1\n",
      "3\n",
      "1\n",
      "2\n",
      "2\n",
      "\n",
      "0\n",
      "5\n",
      "5\n",
      "1\n",
      "1\n",
      "1\n",
      "3\n",
      "1\n",
      "2\n",
      "2\n"
     ]
    }
   ],
   "source": [
    "for i in preds[:10]:\n",
    "    print(i)\n",
    "\n",
    "print()\n",
    "\n",
    "for i in test_labels[:10]:\n",
    "    print(i)"
   ]
  },
  {
   "cell_type": "code",
   "execution_count": 159,
   "id": "358f2a20-3bab-460d-a3a9-e1f2ae445d0d",
   "metadata": {},
   "outputs": [
    {
     "data": {
      "image/png": "[encoded data removed]",
      "text/plain": [
       "<Figure size 640x480 with 1 Axes>"
      ]
     },
     "metadata": {},
     "output_type": "display_data"
    }
   ],
   "source": [
    "plot_correlation(test_features[\"Age\"], preds)"
   ]
  },
  {
   "cell_type": "code",
   "execution_count": 160,
   "id": "b34e864c-5d79-4755-8a85-4a005ce40ddf",
   "metadata": {},
   "outputs": [
    {
     "name": "stdout",
     "output_type": "stream",
     "text": [
      "INFO:tensorflow:Assets written to: new-model-0.1.1/assets\n"
     ]
    },
    {
     "name": "stderr",
     "output_type": "stream",
     "text": [
      "INFO:tensorflow:Assets written to: new-model-0.1.1/assets\n"
     ]
    }
   ],
   "source": [
    "model.save(\"new-model-0.1.1\")"
   ]
  },
  {
   "cell_type": "code",
   "execution_count": null,
   "id": "d0b3f023-279c-4f61-a41a-c41d241f711c",
   "metadata": {},
   "outputs": [],
   "source": []
  }
 ],
 "metadata": {
  "kernelspec": {
   "display_name": "Python 3 (ipykernel)",
   "language": "python",
   "name": "python3"
  },
  "language_info": {
   "codemirror_mode": {
    "name": "ipython",
    "version": 3
   },
   "file_extension": ".py",
   "mimetype": "text/x-python",
   "name": "python",
   "nbconvert_exporter": "python",
   "pygments_lexer": "ipython3",
   "version": "3.11.1"
  }
 },
 "nbformat": 4,
 "nbformat_minor": 5
}
